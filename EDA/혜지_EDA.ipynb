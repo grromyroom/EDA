{
  "nbformat": 4,
  "nbformat_minor": 0,
  "metadata": {
    "colab": {
      "name": "혜지_EDA.ipynb",
      "provenance": [],
      "collapsed_sections": []
    },
    "kernelspec": {
      "name": "python3",
      "display_name": "Python 3"
    },
    "language_info": {
      "name": "python"
    }
  },
  "cells": [
    {
      "cell_type": "markdown",
      "source": [
        "3) RGB 채널별 통계량 분석 (참고코드 : 14번 : https://kjy042386.tistory.com/183)\n",
        "4) 각 class별 이미지 개수 + 아예 구름이 없는 이미지 개수\n",
        "-------------------------"
      ],
      "metadata": {
        "id": "05FFjPAvdiA4"
      }
    },
    {
      "cell_type": "code",
      "source": [
        "cd1= df.groupby(['226']).count() \n",
        "print(cd1)"
      ],
      "metadata": {
        "colab": {
          "base_uri": "https://localhost:8080/"
        },
        "id": "HpDtDzQSJGoi",
        "outputId": "edcb7bf7-686b-4d82-c19e-664e09e76fc1"
      },
      "execution_count": null,
      "outputs": [
        {
          "output_type": "stream",
          "name": "stdout",
          "text": [
            "        0     1     2     3     4     5  ...  6009  6010  6011  6012  6013  6014\n",
            "226                                      ...                                    \n",
            "0    4589  4589  4589  4589  4589  4589  ...  4589  4589  4589  4589  4589  4589\n",
            "76    194   194   194   194   194   194  ...   194   194   194   194   194   194\n",
            "226    31    31    31    31    31    31  ...    31    31    31    31    31    31\n",
            "\n",
            "[3 rows x 6014 columns]\n"
          ]
        }
      ]
    },
    {
      "cell_type": "code",
      "source": [
        ""
      ],
      "metadata": {
        "id": "O8lYJXaUJHIA"
      },
      "execution_count": null,
      "outputs": []
    },
    {
      "cell_type": "code",
      "source": [
        "from glob import glob\n",
        "import os\n",
        "import cv2\n",
        "import numpy as np\n",
        "import matplotlib.pyplot as plt\n",
        "from PIL import Image\n",
        "\n",
        "from collections import Counter\n",
        "\n",
        "\n",
        "\n",
        "def img_counts(img_path):\n",
        "  file_list = os.listdir(\"/content/drive/MyDrive/deeplabv3plus/Deeplabv3plus1/datasets/data/cloud/label/val/val/\")\n",
        "\n",
        "  all_img_list = []\n",
        "\n",
        "  for i, img_name in enumerate(file_list):\n",
        "\n",
        "    img = Image.open(img_path+img_name)\n",
        "    print(i)\n",
        "    arrays = np.array(img)\n",
        "\n",
        "    img_list = [img_name] \n",
        "\n",
        "    if (np.any(arrays == 76)):\n",
        "      img_list.append(\"D\")\n",
        "\n",
        "    if (np.any(arrays == 226)):\n",
        "      img_list.append(\"S\")\n",
        "\n",
        "    if (np.any(arrays == 150)):\n",
        "      img_list.append(\"L\")\n",
        "\n",
        "\n",
        "    \n",
        "    all_img_list.extend(img_list)\n",
        "    print(img_list)\n",
        "    print(all_img_list)\n",
        "\n",
        "    # cnt_deep = np.count_nonzero(all_img_list == \"D\")\n",
        "    # cnt_shadow = np.count_nonzero(all_img_list == \"S\")\n",
        "    # cnt_light = np.count_nonzero(all_img_list == \"L\")\n",
        "\n",
        "    #print(cnt_deep, cnt_shadow, cnt_light )\n",
        "\n",
        "  cnt = Counter(all_img_list)\n",
        "  print('짙은 구름 세는 카운터 :', cnt[\"D\"])\n",
        "  print('그림자  세는 카운터 :', cnt[\"S\"])  \n",
        "  print('옅은 구름 세는 카운터 :', cnt[\"L\"])\n",
        "    # a = 0\n",
        "    # if \"D\" in all_img_list:\n",
        "    #   a +=1 \n",
        "\n",
        "    # b = 0\n",
        "    # if \"S\" in all_img_list:\n",
        "    #   b +=1\n",
        "\n",
        "    # c = 0\n",
        "    # if \"L\" in all_img_list:\n",
        "    #   c +=1\n",
        "\n",
        "    # print(a,b,c)\n",
        "  \n",
        "\n",
        "\n",
        "\n",
        "\n",
        "\n",
        "img_counts(\"/content/drive/MyDrive/deeplabv3plus/Deeplabv3plus1/datasets/data/cloud/label/val/val/\")\n",
        "\n",
        "    \n",
        "\n"
      ],
      "metadata": {
        "colab": {
          "base_uri": "https://localhost:8080/"
        },
        "id": "LCKCUDX1bL--",
        "outputId": "70a16788-3946-45aa-b9cf-3cb888b909b6"
      },
      "execution_count": null,
      "outputs": [
        {
          "output_type": "stream",
          "name": "stdout",
          "text": [
            "0\n",
            "['CLD00006_RGB_K3A_NIA0006_label.png', 'D', 'L']\n",
            "['CLD00006_RGB_K3A_NIA0006_label.png', 'D', 'L']\n",
            "1\n",
            "['CLD00007_RGB_K3A_NIA0007_label.png', 'D', 'S', 'L']\n",
            "['CLD00006_RGB_K3A_NIA0006_label.png', 'D', 'L', 'CLD00007_RGB_K3A_NIA0007_label.png', 'D', 'S', 'L']\n",
            "2\n",
            "['CLD00009_RGB_K3A_NIA0009_label.png', 'D', 'S', 'L']\n",
            "['CLD00006_RGB_K3A_NIA0006_label.png', 'D', 'L', 'CLD00007_RGB_K3A_NIA0007_label.png', 'D', 'S', 'L', 'CLD00009_RGB_K3A_NIA0009_label.png', 'D', 'S', 'L']\n",
            "3\n",
            "['CLD00010_RGB_K3A_NIA0010_label.png', 'D', 'S', 'L']\n",
            "['CLD00006_RGB_K3A_NIA0006_label.png', 'D', 'L', 'CLD00007_RGB_K3A_NIA0007_label.png', 'D', 'S', 'L', 'CLD00009_RGB_K3A_NIA0009_label.png', 'D', 'S', 'L', 'CLD00010_RGB_K3A_NIA0010_label.png', 'D', 'S', 'L']\n",
            "4\n",
            "['CLD00020_RGB_K3A_NIA0020_label.png', 'D', 'S', 'L']\n",
            "['CLD00006_RGB_K3A_NIA0006_label.png', 'D', 'L', 'CLD00007_RGB_K3A_NIA0007_label.png', 'D', 'S', 'L', 'CLD00009_RGB_K3A_NIA0009_label.png', 'D', 'S', 'L', 'CLD00010_RGB_K3A_NIA0010_label.png', 'D', 'S', 'L', 'CLD00020_RGB_K3A_NIA0020_label.png', 'D', 'S', 'L']\n",
            "5\n",
            "['CLD00025_RGB_K3A_NIA0025_label.png', 'D', 'S', 'L']\n",
            "['CLD00006_RGB_K3A_NIA0006_label.png', 'D', 'L', 'CLD00007_RGB_K3A_NIA0007_label.png', 'D', 'S', 'L', 'CLD00009_RGB_K3A_NIA0009_label.png', 'D', 'S', 'L', 'CLD00010_RGB_K3A_NIA0010_label.png', 'D', 'S', 'L', 'CLD00020_RGB_K3A_NIA0020_label.png', 'D', 'S', 'L', 'CLD00025_RGB_K3A_NIA0025_label.png', 'D', 'S', 'L']\n",
            "6\n",
            "['CLD00043_RGB_K3_NIA0043_label.png', 'D', 'L']\n",
            "['CLD00006_RGB_K3A_NIA0006_label.png', 'D', 'L', 'CLD00007_RGB_K3A_NIA0007_label.png', 'D', 'S', 'L', 'CLD00009_RGB_K3A_NIA0009_label.png', 'D', 'S', 'L', 'CLD00010_RGB_K3A_NIA0010_label.png', 'D', 'S', 'L', 'CLD00020_RGB_K3A_NIA0020_label.png', 'D', 'S', 'L', 'CLD00025_RGB_K3A_NIA0025_label.png', 'D', 'S', 'L', 'CLD00043_RGB_K3_NIA0043_label.png', 'D', 'L']\n",
            "7\n",
            "['CLD00049_RGB_K3_NIA0049_label.png', 'D', 'S', 'L']\n",
            "['CLD00006_RGB_K3A_NIA0006_label.png', 'D', 'L', 'CLD00007_RGB_K3A_NIA0007_label.png', 'D', 'S', 'L', 'CLD00009_RGB_K3A_NIA0009_label.png', 'D', 'S', 'L', 'CLD00010_RGB_K3A_NIA0010_label.png', 'D', 'S', 'L', 'CLD00020_RGB_K3A_NIA0020_label.png', 'D', 'S', 'L', 'CLD00025_RGB_K3A_NIA0025_label.png', 'D', 'S', 'L', 'CLD00043_RGB_K3_NIA0043_label.png', 'D', 'L', 'CLD00049_RGB_K3_NIA0049_label.png', 'D', 'S', 'L']\n",
            "8\n",
            "['CLD00057_RGB_K3_NIA0057_label.png', 'D', 'S', 'L']\n",
            "['CLD00006_RGB_K3A_NIA0006_label.png', 'D', 'L', 'CLD00007_RGB_K3A_NIA0007_label.png', 'D', 'S', 'L', 'CLD00009_RGB_K3A_NIA0009_label.png', 'D', 'S', 'L', 'CLD00010_RGB_K3A_NIA0010_label.png', 'D', 'S', 'L', 'CLD00020_RGB_K3A_NIA0020_label.png', 'D', 'S', 'L', 'CLD00025_RGB_K3A_NIA0025_label.png', 'D', 'S', 'L', 'CLD00043_RGB_K3_NIA0043_label.png', 'D', 'L', 'CLD00049_RGB_K3_NIA0049_label.png', 'D', 'S', 'L', 'CLD00057_RGB_K3_NIA0057_label.png', 'D', 'S', 'L']\n",
            "9\n",
            "['CLD00064_RGB_K3_NIA0064_label.png', 'D', 'S', 'L']\n",
            "['CLD00006_RGB_K3A_NIA0006_label.png', 'D', 'L', 'CLD00007_RGB_K3A_NIA0007_label.png', 'D', 'S', 'L', 'CLD00009_RGB_K3A_NIA0009_label.png', 'D', 'S', 'L', 'CLD00010_RGB_K3A_NIA0010_label.png', 'D', 'S', 'L', 'CLD00020_RGB_K3A_NIA0020_label.png', 'D', 'S', 'L', 'CLD00025_RGB_K3A_NIA0025_label.png', 'D', 'S', 'L', 'CLD00043_RGB_K3_NIA0043_label.png', 'D', 'L', 'CLD00049_RGB_K3_NIA0049_label.png', 'D', 'S', 'L', 'CLD00057_RGB_K3_NIA0057_label.png', 'D', 'S', 'L', 'CLD00064_RGB_K3_NIA0064_label.png', 'D', 'S', 'L']\n",
            "10\n",
            "['CLD00080_RGB_K3_NIA0394_label.png', 'D', 'S', 'L']\n",
            "['CLD00006_RGB_K3A_NIA0006_label.png', 'D', 'L', 'CLD00007_RGB_K3A_NIA0007_label.png', 'D', 'S', 'L', 'CLD00009_RGB_K3A_NIA0009_label.png', 'D', 'S', 'L', 'CLD00010_RGB_K3A_NIA0010_label.png', 'D', 'S', 'L', 'CLD00020_RGB_K3A_NIA0020_label.png', 'D', 'S', 'L', 'CLD00025_RGB_K3A_NIA0025_label.png', 'D', 'S', 'L', 'CLD00043_RGB_K3_NIA0043_label.png', 'D', 'L', 'CLD00049_RGB_K3_NIA0049_label.png', 'D', 'S', 'L', 'CLD00057_RGB_K3_NIA0057_label.png', 'D', 'S', 'L', 'CLD00064_RGB_K3_NIA0064_label.png', 'D', 'S', 'L', 'CLD00080_RGB_K3_NIA0394_label.png', 'D', 'S', 'L']\n",
            "11\n",
            "['CLD00104_RGB_K3_NIA0418_label.png', 'D', 'S', 'L']\n",
            "['CLD00006_RGB_K3A_NIA0006_label.png', 'D', 'L', 'CLD00007_RGB_K3A_NIA0007_label.png', 'D', 'S', 'L', 'CLD00009_RGB_K3A_NIA0009_label.png', 'D', 'S', 'L', 'CLD00010_RGB_K3A_NIA0010_label.png', 'D', 'S', 'L', 'CLD00020_RGB_K3A_NIA0020_label.png', 'D', 'S', 'L', 'CLD00025_RGB_K3A_NIA0025_label.png', 'D', 'S', 'L', 'CLD00043_RGB_K3_NIA0043_label.png', 'D', 'L', 'CLD00049_RGB_K3_NIA0049_label.png', 'D', 'S', 'L', 'CLD00057_RGB_K3_NIA0057_label.png', 'D', 'S', 'L', 'CLD00064_RGB_K3_NIA0064_label.png', 'D', 'S', 'L', 'CLD00080_RGB_K3_NIA0394_label.png', 'D', 'S', 'L', 'CLD00104_RGB_K3_NIA0418_label.png', 'D', 'S', 'L']\n",
            "12\n",
            "['CLD00136_RGB_K3_NIA0450_label.png', 'D', 'S', 'L']\n",
            "['CLD00006_RGB_K3A_NIA0006_label.png', 'D', 'L', 'CLD00007_RGB_K3A_NIA0007_label.png', 'D', 'S', 'L', 'CLD00009_RGB_K3A_NIA0009_label.png', 'D', 'S', 'L', 'CLD00010_RGB_K3A_NIA0010_label.png', 'D', 'S', 'L', 'CLD00020_RGB_K3A_NIA0020_label.png', 'D', 'S', 'L', 'CLD00025_RGB_K3A_NIA0025_label.png', 'D', 'S', 'L', 'CLD00043_RGB_K3_NIA0043_label.png', 'D', 'L', 'CLD00049_RGB_K3_NIA0049_label.png', 'D', 'S', 'L', 'CLD00057_RGB_K3_NIA0057_label.png', 'D', 'S', 'L', 'CLD00064_RGB_K3_NIA0064_label.png', 'D', 'S', 'L', 'CLD00080_RGB_K3_NIA0394_label.png', 'D', 'S', 'L', 'CLD00104_RGB_K3_NIA0418_label.png', 'D', 'S', 'L', 'CLD00136_RGB_K3_NIA0450_label.png', 'D', 'S', 'L']\n",
            "13\n",
            "['CLD00156_RGB_K3A_NIA0470_label.png', 'D', 'S', 'L']\n",
            "['CLD00006_RGB_K3A_NIA0006_label.png', 'D', 'L', 'CLD00007_RGB_K3A_NIA0007_label.png', 'D', 'S', 'L', 'CLD00009_RGB_K3A_NIA0009_label.png', 'D', 'S', 'L', 'CLD00010_RGB_K3A_NIA0010_label.png', 'D', 'S', 'L', 'CLD00020_RGB_K3A_NIA0020_label.png', 'D', 'S', 'L', 'CLD00025_RGB_K3A_NIA0025_label.png', 'D', 'S', 'L', 'CLD00043_RGB_K3_NIA0043_label.png', 'D', 'L', 'CLD00049_RGB_K3_NIA0049_label.png', 'D', 'S', 'L', 'CLD00057_RGB_K3_NIA0057_label.png', 'D', 'S', 'L', 'CLD00064_RGB_K3_NIA0064_label.png', 'D', 'S', 'L', 'CLD00080_RGB_K3_NIA0394_label.png', 'D', 'S', 'L', 'CLD00104_RGB_K3_NIA0418_label.png', 'D', 'S', 'L', 'CLD00136_RGB_K3_NIA0450_label.png', 'D', 'S', 'L', 'CLD00156_RGB_K3A_NIA0470_label.png', 'D', 'S', 'L']\n",
            "14\n",
            "['CLD00184_RGB_K3A_NIA0498_label.png', 'D', 'S', 'L']\n",
            "['CLD00006_RGB_K3A_NIA0006_label.png', 'D', 'L', 'CLD00007_RGB_K3A_NIA0007_label.png', 'D', 'S', 'L', 'CLD00009_RGB_K3A_NIA0009_label.png', 'D', 'S', 'L', 'CLD00010_RGB_K3A_NIA0010_label.png', 'D', 'S', 'L', 'CLD00020_RGB_K3A_NIA0020_label.png', 'D', 'S', 'L', 'CLD00025_RGB_K3A_NIA0025_label.png', 'D', 'S', 'L', 'CLD00043_RGB_K3_NIA0043_label.png', 'D', 'L', 'CLD00049_RGB_K3_NIA0049_label.png', 'D', 'S', 'L', 'CLD00057_RGB_K3_NIA0057_label.png', 'D', 'S', 'L', 'CLD00064_RGB_K3_NIA0064_label.png', 'D', 'S', 'L', 'CLD00080_RGB_K3_NIA0394_label.png', 'D', 'S', 'L', 'CLD00104_RGB_K3_NIA0418_label.png', 'D', 'S', 'L', 'CLD00136_RGB_K3_NIA0450_label.png', 'D', 'S', 'L', 'CLD00156_RGB_K3A_NIA0470_label.png', 'D', 'S', 'L', 'CLD00184_RGB_K3A_NIA0498_label.png', 'D', 'S', 'L']\n",
            "15\n",
            "['CLD00199_RGB_K3A_NIA1046_label.png', 'D', 'S', 'L']\n",
            "['CLD00006_RGB_K3A_NIA0006_label.png', 'D', 'L', 'CLD00007_RGB_K3A_NIA0007_label.png', 'D', 'S', 'L', 'CLD00009_RGB_K3A_NIA0009_label.png', 'D', 'S', 'L', 'CLD00010_RGB_K3A_NIA0010_label.png', 'D', 'S', 'L', 'CLD00020_RGB_K3A_NIA0020_label.png', 'D', 'S', 'L', 'CLD00025_RGB_K3A_NIA0025_label.png', 'D', 'S', 'L', 'CLD00043_RGB_K3_NIA0043_label.png', 'D', 'L', 'CLD00049_RGB_K3_NIA0049_label.png', 'D', 'S', 'L', 'CLD00057_RGB_K3_NIA0057_label.png', 'D', 'S', 'L', 'CLD00064_RGB_K3_NIA0064_label.png', 'D', 'S', 'L', 'CLD00080_RGB_K3_NIA0394_label.png', 'D', 'S', 'L', 'CLD00104_RGB_K3_NIA0418_label.png', 'D', 'S', 'L', 'CLD00136_RGB_K3_NIA0450_label.png', 'D', 'S', 'L', 'CLD00156_RGB_K3A_NIA0470_label.png', 'D', 'S', 'L', 'CLD00184_RGB_K3A_NIA0498_label.png', 'D', 'S', 'L', 'CLD00199_RGB_K3A_NIA1046_label.png', 'D', 'S', 'L']\n",
            "짙은 구름 세는 카운터 : 16\n",
            "그림자  세는 카운터 : 14\n",
            "옅은 구름 세는 카운터 : 16\n"
          ]
        }
      ]
    },
    {
      "cell_type": "code",
      "source": [
        "from glob import glob\n",
        "import os\n",
        "import cv2\n",
        "import numpy as np\n",
        "import matplotlib.pyplot as plt\n",
        "from PIL import Image\n",
        "\n",
        "from collections import Counter\n",
        "\n",
        "\n",
        "\n",
        "def img_counts(img_path):\n",
        "  file_list = os.listdir('/content/drive/MyDrive/deeplabv3plus/Deeplabv3plus1/datasets/data/cloud/label/train/train')\n",
        "\n",
        "  all_img_list = []\n",
        "\n",
        "  for i, img_name in enumerate(file_list):\n",
        "\n",
        "    img = Image.open(img_path+img_name)\n",
        "    print(i)\n",
        "    arrays = np.array(img)\n",
        "\n",
        "    img_list = [img_name] \n",
        "\n",
        "    if (np.any(arrays == 76)):\n",
        "      img_list.append(\"D\")\n",
        "\n",
        "    if (np.any(arrays == 226)):\n",
        "      img_list.append(\"S\")\n",
        "\n",
        "    if (np.any(arrays == 150)):\n",
        "      img_list.append(\"L\")\n",
        "\n",
        "\n",
        "    \n",
        "    all_img_list.extend(img_list)\n",
        "    print(img_list)\n",
        "    print(all_img_list)\n",
        "\n",
        "    # cnt_deep = np.count_nonzero(all_img_list == \"D\")\n",
        "    # cnt_shadow = np.count_nonzero(all_img_list == \"S\")\n",
        "    # cnt_light = np.count_nonzero(all_img_list == \"L\")\n",
        "\n",
        "    #print(cnt_deep, cnt_shadow, cnt_light )\n",
        "\n",
        "  cnt = Counter(all_img_list)\n",
        "  print('짙은 구름 세는 카운터 :', cnt[\"D\"])\n",
        "  print('그림자 세는 카운터 :', cnt[\"S\"])  \n",
        "  print('옅은 구름 세는 카운터 :', cnt[\"L\"])\n",
        "    # a = 0\n",
        "    # if \"D\" in all_img_list:\n",
        "    #   a +=1 \n",
        "\n",
        "    # b = 0\n",
        "    # if \"S\" in all_img_list:\n",
        "    #   b +=1\n",
        "\n",
        "    # c = 0\n",
        "    # if \"L\" in all_img_list:\n",
        "    #   c +=1\n",
        "\n",
        "    # print(a,b,c)\n",
        "  \n",
        "\n",
        "\n",
        "\n",
        "\n",
        "\n",
        "img_counts('/content/drive/MyDrive/deeplabv3plus/Deeplabv3plus1/datasets/data/cloud/label/train/train')\n",
        "\n",
        "    \n",
        "\n"
      ],
      "metadata": {
        "colab": {
          "base_uri": "https://localhost:8080/",
          "height": 418
        },
        "id": "esfhBxK2ujxm",
        "outputId": "d0d2eb2c-6be1-40c0-e899-fb6b4f362736"
      },
      "execution_count": null,
      "outputs": [
        {
          "output_type": "error",
          "ename": "FileNotFoundError",
          "evalue": "ignored",
          "traceback": [
            "\u001b[0;31m---------------------------------------------------------------------------\u001b[0m",
            "\u001b[0;31mFileNotFoundError\u001b[0m                         Traceback (most recent call last)",
            "\u001b[0;32m<ipython-input-33-1511d85d1f3d>\u001b[0m in \u001b[0;36m<module>\u001b[0;34m()\u001b[0m\n\u001b[1;32m     67\u001b[0m \u001b[0;34m\u001b[0m\u001b[0m\n\u001b[1;32m     68\u001b[0m \u001b[0;34m\u001b[0m\u001b[0m\n\u001b[0;32m---> 69\u001b[0;31m \u001b[0mimg_counts\u001b[0m\u001b[0;34m(\u001b[0m\u001b[0;34m'/content/drive/MyDrive/deeplabv3plus/Deeplabv3plus1/datasets/data/cloud/label/train/train'\u001b[0m\u001b[0;34m)\u001b[0m\u001b[0;34m\u001b[0m\u001b[0;34m\u001b[0m\u001b[0m\n\u001b[0m\u001b[1;32m     70\u001b[0m \u001b[0;34m\u001b[0m\u001b[0m\n\u001b[1;32m     71\u001b[0m \u001b[0;34m\u001b[0m\u001b[0m\n",
            "\u001b[0;32m<ipython-input-33-1511d85d1f3d>\u001b[0m in \u001b[0;36mimg_counts\u001b[0;34m(img_path)\u001b[0m\n\u001b[1;32m     17\u001b[0m   \u001b[0;32mfor\u001b[0m \u001b[0mi\u001b[0m\u001b[0;34m,\u001b[0m \u001b[0mimg_name\u001b[0m \u001b[0;32min\u001b[0m \u001b[0menumerate\u001b[0m\u001b[0;34m(\u001b[0m\u001b[0mfile_list\u001b[0m\u001b[0;34m)\u001b[0m\u001b[0;34m:\u001b[0m\u001b[0;34m\u001b[0m\u001b[0;34m\u001b[0m\u001b[0m\n\u001b[1;32m     18\u001b[0m \u001b[0;34m\u001b[0m\u001b[0m\n\u001b[0;32m---> 19\u001b[0;31m     \u001b[0mimg\u001b[0m \u001b[0;34m=\u001b[0m \u001b[0mImage\u001b[0m\u001b[0;34m.\u001b[0m\u001b[0mopen\u001b[0m\u001b[0;34m(\u001b[0m\u001b[0mimg_path\u001b[0m\u001b[0;34m+\u001b[0m\u001b[0mimg_name\u001b[0m\u001b[0;34m)\u001b[0m\u001b[0;34m\u001b[0m\u001b[0;34m\u001b[0m\u001b[0m\n\u001b[0m\u001b[1;32m     20\u001b[0m     \u001b[0mprint\u001b[0m\u001b[0;34m(\u001b[0m\u001b[0mi\u001b[0m\u001b[0;34m)\u001b[0m\u001b[0;34m\u001b[0m\u001b[0;34m\u001b[0m\u001b[0m\n\u001b[1;32m     21\u001b[0m     \u001b[0marrays\u001b[0m \u001b[0;34m=\u001b[0m \u001b[0mnp\u001b[0m\u001b[0;34m.\u001b[0m\u001b[0marray\u001b[0m\u001b[0;34m(\u001b[0m\u001b[0mimg\u001b[0m\u001b[0;34m)\u001b[0m\u001b[0;34m\u001b[0m\u001b[0;34m\u001b[0m\u001b[0m\n",
            "\u001b[0;32m/usr/local/lib/python3.7/dist-packages/PIL/Image.py\u001b[0m in \u001b[0;36mopen\u001b[0;34m(fp, mode)\u001b[0m\n\u001b[1;32m   2841\u001b[0m \u001b[0;34m\u001b[0m\u001b[0m\n\u001b[1;32m   2842\u001b[0m     \u001b[0;32mif\u001b[0m \u001b[0mfilename\u001b[0m\u001b[0;34m:\u001b[0m\u001b[0;34m\u001b[0m\u001b[0;34m\u001b[0m\u001b[0m\n\u001b[0;32m-> 2843\u001b[0;31m         \u001b[0mfp\u001b[0m \u001b[0;34m=\u001b[0m \u001b[0mbuiltins\u001b[0m\u001b[0;34m.\u001b[0m\u001b[0mopen\u001b[0m\u001b[0;34m(\u001b[0m\u001b[0mfilename\u001b[0m\u001b[0;34m,\u001b[0m \u001b[0;34m\"rb\"\u001b[0m\u001b[0;34m)\u001b[0m\u001b[0;34m\u001b[0m\u001b[0;34m\u001b[0m\u001b[0m\n\u001b[0m\u001b[1;32m   2844\u001b[0m         \u001b[0mexclusive_fp\u001b[0m \u001b[0;34m=\u001b[0m \u001b[0;32mTrue\u001b[0m\u001b[0;34m\u001b[0m\u001b[0;34m\u001b[0m\u001b[0m\n\u001b[1;32m   2845\u001b[0m \u001b[0;34m\u001b[0m\u001b[0m\n",
            "\u001b[0;31mFileNotFoundError\u001b[0m: [Errno 2] No such file or directory: '/content/drive/MyDrive/deeplabv3plus/Deeplabv3plus1/datasets/data/cloud/label/train/trainCLD00001_RGB_K3A_NIA0001_label.png'"
          ]
        }
      ]
    }
  ]
}